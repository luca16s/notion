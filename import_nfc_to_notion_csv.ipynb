{
 "cells": [
  {
   "cell_type": "code",
   "execution_count": 30,
   "metadata": {},
   "outputs": [],
   "source": [
    "import os\n",
    "import numpy as np\n",
    "import pandas as pd\n",
    "from pandas import DataFrame\n",
    "from selenium import webdriver\n",
    "from selenium.webdriver.common.by import By\n",
    "from selenium.webdriver.support.ui import WebDriverWait\n",
    "from selenium.webdriver.support import expected_conditions as EC\n",
    "from webdriver_manager.microsoft import EdgeChromiumDriverManager\n",
    "from selenium.webdriver.edge.service import Service as EdgeService"
   ]
  },
  {
   "cell_type": "code",
   "execution_count": 31,
   "metadata": {},
   "outputs": [],
   "source": [
    "%reload_ext dotenv\n",
    "%dotenv"
   ]
  },
  {
   "cell_type": "code",
   "execution_count": 32,
   "metadata": {},
   "outputs": [],
   "source": [
    "CHAVE_NFC                 = os.getenv('CHAVE_NFC')\n",
    "URL_FAZENDA               = os.getenv('URL_FAZENDA')\n",
    "TEMPO_ESPERA              = os.getenv('TEMPO_ESPERA')\n",
    "NOME_CAMPO_CHAVE_ACESSO   = os.getenv('NOME_CAMPO_CHAVE_ACESSO')\n",
    "NOME_BOTAO_DETALHAR_NOTA  = os.getenv('NOME_BOTAO_DETALHAR_NOTA')\n",
    "NOME_BOTAO_CONSULTAR_NOTA = os.getenv('NOME_BOTAO_CONSULTAR_NOTA')"
   ]
  },
  {
   "cell_type": "code",
   "execution_count": 33,
   "metadata": {},
   "outputs": [],
   "source": [
    "driver = webdriver.Edge(service=EdgeService(EdgeChromiumDriverManager().install()))\n",
    "driver.maximize_window()\n",
    "wait = WebDriverWait(driver, TEMPO_ESPERA)"
   ]
  },
  {
   "cell_type": "code",
   "execution_count": 34,
   "metadata": {},
   "outputs": [],
   "source": [
    "def get_path(\n",
    "    path: str,\n",
    "    indice: int = 0,\n",
    "    should_format_path: bool = True\n",
    "    ) -> str:\n",
    "    try:\n",
    "        path = path.format(i=indice) if should_format_path else path\n",
    "        return driver.find_element(By.XPATH, path).get_attribute('innerHTML')\n",
    "    except:\n",
    "        return ''"
   ]
  },
  {
   "cell_type": "code",
   "execution_count": 35,
   "metadata": {},
   "outputs": [],
   "source": [
    "def filter_dataframe(\n",
    "        df: DataFrame,\n",
    "        coluna: str,\n",
    "        values_to_ignore\n",
    "    ) -> DataFrame:\n",
    "    return df[~df[coluna].isin(values_to_ignore)]"
   ]
  },
  {
   "cell_type": "code",
   "execution_count": 36,
   "metadata": {},
   "outputs": [],
   "source": [
    "def save_dataframe_to_csv(\n",
    "        df: DataFrame,\n",
    "        file_name: str,\n",
    "        file_type: str,\n",
    "        nome_coluna_indice: str\n",
    "    ):\n",
    "    df.to_csv(f'{file_name}.{file_type}', index_label=nome_coluna_indice, index=True)"
   ]
  },
  {
   "cell_type": "code",
   "execution_count": 37,
   "metadata": {},
   "outputs": [],
   "source": [
    "def get_info_nota_fiscal(\n",
    "        url: str,\n",
    "        chave: str,\n",
    "        nome_campo_chave: str,\n",
    "        nome_botao_consulta_nota: str,\n",
    "        nome_botao_detalhar_nota: str\n",
    "    ):\n",
    "    driver.get(url)\n",
    "    wait.until(EC.element_to_be_clickable((By.NAME, nome_campo_chave))).send_keys(chave)\n",
    "    wait.until(EC.element_to_be_clickable((By.NAME, nome_botao_consulta_nota))).click()\n",
    "    wait.until(EC.visibility_of_element_located((By.NAME, nome_botao_detalhar_nota))).click()"
   ]
  },
  {
   "cell_type": "code",
   "execution_count": 38,
   "metadata": {},
   "outputs": [],
   "source": [
    "def convert_date_to_notion_format(\n",
    "        df: DataFrame,\n",
    "        coluna: str,\n",
    "        file_uses_day_first = True\n",
    "    ) -> DataFrame:\n",
    "    df[coluna] = pd.to_datetime(df[coluna], dayfirst=file_uses_day_first).dt.strftime(REGEX_DATA)\n",
    "    return df"
   ]
  },
  {
   "cell_type": "code",
   "execution_count": 39,
   "metadata": {},
   "outputs": [],
   "source": [
    "def convert_number_to_notion_format(\n",
    "        df: DataFrame,\n",
    "        coluna: str,\n",
    "    ) -> DataFrame:\n",
    "    df[coluna] = pd.to_numeric(df[coluna].str.replace(',', '.'))\n",
    "    return df"
   ]
  },
  {
   "cell_type": "code",
   "execution_count": 40,
   "metadata": {},
   "outputs": [],
   "source": [
    "should_retry = True\n",
    "\n",
    "while should_retry:\n",
    "    try:\n",
    "        get_info_nota_fiscal(\n",
    "            url=URL_FAZENDA,\n",
    "            chave=CHAVE_NFC,\n",
    "            nome_campo_chave=NOME_CAMPO_CHAVE_ACESSO,\n",
    "            nome_botao_detalhar_nota=NOME_BOTAO_DETALHAR_NOTA,\n",
    "            nome_botao_consulta_nota=NOME_BOTAO_CONSULTAR_NOTA\n",
    "        )\n",
    "        should_retry = False\n",
    "    except:\n",
    "        should_retry = True"
   ]
  },
  {
   "cell_type": "code",
   "execution_count": 41,
   "metadata": {},
   "outputs": [],
   "source": [
    "TOTAL_ITENS_NOTA         = os.getenv('TOTAL_ITENS_NOTA')\n",
    "PATH_NUMERO_NOTA         = os.getenv('PATH_NUMERO_NOTA')\n",
    "PATH_DATA_COMPRA         = os.getenv('PATH_DATA_COMPRA')\n",
    "PATH_NOME_PRODUTO        = os.getenv('PATH_NOME_PRODUTO')\n",
    "PATH_QUANTIDADE          = os.getenv('PATH_QUANTIDADE')\n",
    "PATH_UNIDADE_COMERCIAL   = os.getenv('PATH_UNIDADE_COMERCIAL')\n",
    "PATH_VALOR_DESCONTO      = os.getenv('PATH_VALOR_DESCONTO')\n",
    "PATH_VALOR_PRODUTO       = os.getenv('PATH_VALOR_PRODUTO')\n",
    "PATH_NOME_MERCADO        = os.getenv('PATH_NOME_MERCADO')\n",
    "\n",
    "NOME_COLUNA_PRODUTO      = os.getenv('NOME_COLUNA_PRODUTO')\n",
    "NOME_COLUNA_STATUS       = os.getenv('NOME_COLUNA_STATUS')\n",
    "NOME_COLUNA_COMPRA       = os.getenv('NOME_COLUNA_COMPRA')\n",
    "NOME_COLUNA_MERCADO      = os.getenv('NOME_COLUNA_MERCADO')\n",
    "NOME_COLUNA_QUANTIDADE   = os.getenv('NOME_COLUNA_QUANTIDADE')\n",
    "NOME_COLUNA_VALOR        = os.getenv('NOME_COLUNA_VALOR')\n",
    "NOME_COLUNA_DESCONTO     = os.getenv('NOME_COLUNA_DESCONTO')\n",
    "NOME_COLUNA_INDICE       = os.getenv('NOME_COLUNA_INDICE')\n",
    "\n",
    "VALOR_CAMPO_STATUS       = os.getenv('VALOR_CAMPO_STATUS')\n",
    "VALOR_CAMPO_SUPERMERCADO = os.getenv('VALOR_CAMPO_SUPERMERCADO')\n",
    "\n",
    "REGEX_DATA               = os.getenv('REGEX_DATA')\n",
    "FILE_TYPE_TO_EXPORT      = os.getenv('FILE_TYPE_TO_EXPORT')"
   ]
  },
  {
   "cell_type": "code",
   "execution_count": 42,
   "metadata": {},
   "outputs": [],
   "source": [
    "list_nota = []\n",
    "\n",
    "for i in range(len(driver.find_elements(By.XPATH, TOTAL_ITENS_NOTA))):\n",
    "    list_nota.append([\n",
    "        get_path(PATH_NOME_PRODUTO, indice=i),\n",
    "        'Comprado',\n",
    "        get_path(PATH_DATA_COMPRA, indice=i),\n",
    "        get_path(PATH_NOME_MERCADO, indice=i),\n",
    "        get_path(PATH_QUANTIDADE, indice=i),\n",
    "        get_path(PATH_VALOR_PRODUTO, indice=i),\n",
    "        get_path(PATH_VALOR_DESCONTO, indice=i+1),\n",
    "    ])"
   ]
  },
  {
   "cell_type": "code",
   "execution_count": 43,
   "metadata": {},
   "outputs": [],
   "source": [
    "df = pd.DataFrame(\n",
    "    list_nota,\n",
    "    columns=[\n",
    "        NOME_COLUNA_PRODUTO,\n",
    "        NOME_COLUNA_STATUS,\n",
    "        NOME_COLUNA_COMPRA,\n",
    "        NOME_COLUNA_MERCADO,\n",
    "        NOME_COLUNA_QUANTIDADE,\n",
    "        NOME_COLUNA_VALOR,\n",
    "        NOME_COLUNA_DESCONTO\n",
    "    ]\n",
    ")\n",
    "\n",
    "df = filter_dataframe(\n",
    "    df,\n",
    "    NOME_COLUNA_PRODUTO,\n",
    "    values_to_ignore=['']\n",
    ")\n",
    "df = convert_date_to_notion_format(df, NOME_COLUNA_COMPRA)\n",
    "df = convert_number_to_notion_format(df, NOME_COLUNA_VALOR)\n",
    "df = convert_number_to_notion_format(df, NOME_COLUNA_DESCONTO)\n",
    "df = convert_number_to_notion_format(df, NOME_COLUNA_QUANTIDADE)\n",
    "df.index = np.arange(1, len(df)+1)\n",
    "\n",
    "if not df.empty:\n",
    "    save_dataframe_to_csv(\n",
    "        df,\n",
    "        get_path(PATH_NUMERO_NOTA, should_format_path=False),\n",
    "        FILE_TYPE_TO_EXPORT,\n",
    "        NOME_COLUNA_INDICE\n",
    "    )"
   ]
  }
 ],
 "metadata": {
  "kernelspec": {
   "display_name": "base",
   "language": "python",
   "name": "python3"
  },
  "language_info": {
   "codemirror_mode": {
    "name": "ipython",
    "version": 3
   },
   "file_extension": ".py",
   "mimetype": "text/x-python",
   "name": "python",
   "nbconvert_exporter": "python",
   "pygments_lexer": "ipython3",
   "version": "3.11.7"
  }
 },
 "nbformat": 4,
 "nbformat_minor": 2
}
