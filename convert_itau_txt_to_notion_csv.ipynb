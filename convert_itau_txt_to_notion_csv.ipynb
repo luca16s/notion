{
 "cells": [
  {
   "cell_type": "code",
   "execution_count": 500,
   "metadata": {},
   "outputs": [],
   "source": [
    "import os\n",
    "import pandas as pd\n",
    "from pathlib import Path\n",
    "from pandas import DataFrame"
   ]
  },
  {
   "cell_type": "code",
   "execution_count": 501,
   "metadata": {},
   "outputs": [],
   "source": [
    "BASE_PATH               = os.getenv('BASE_PATH')\n",
    "INDICE_NAME             = os.getenv('INDICE_NAME')\n",
    "ENGINE_NAME             = os.getenv('ENGINE_NAME')\n",
    "COLUNA_DATA             = os.getenv('COLUNA_DATA')\n",
    "COLUNA_SALDO            = os.getenv('COLUNA_SALDO')\n",
    "NOME_INSTITUICAO        = os.getenv('NOME_INSTITUICAO')\n",
    "COLUNA_LANCAMENTO       = os.getenv('COLUNA_LANCAMENTO')\n",
    "DECIMAL_INDICATOR       = os.getenv('DECIMAL_INDICATOR')\n",
    "COLUNA_INSTITUICAO      = os.getenv('COLUNA_INSTITUICAO')\n",
    "FILE_TYPE_TO_IMPORT     = os.getenv('FILE_TYPE_TO_IMPORT')\n",
    "FILE_TYPE_TO_EXPORT     = os.getenv('FILE_TYPE_TO_EXPORT')\n",
    "IMPORTED_FILE_SEPARATOR = os.getenv('IMPORTED_FILE_SEPARATOR')\n",
    "VALUES_TO_IGNORE        = os.getenv('VALUES_TO_IGNORE').split(\",\")"
   ]
  },
  {
   "cell_type": "code",
   "execution_count": null,
   "metadata": {},
   "outputs": [],
   "source": [
    "def convert_dataframe_to_notion_format(df: DataFrame, nome_instituicao: str, coluna_data: str, coluna_saldo: str, coluna_instituicao: str, file_uses_day_first = True) -> DataFrame:\n",
    "    df[coluna_instituicao] = nome_instituicao\n",
    "    df[coluna_saldo] = pd.to_numeric(df[coluna_saldo])\n",
    "    df[coluna_data] = pd.to_datetime(df[coluna_data], dayfirst=file_uses_day_first).dt.strftime('%m/%d/%Y')\n",
    "    return df"
   ]
  },
  {
   "cell_type": "code",
   "execution_count": null,
   "metadata": {},
   "outputs": [],
   "source": [
    "def filter_dataframe(df: DataFrame, coluna_lancamento: str, values_to_ignore) -> DataFrame:\n",
    "    return df[~df[coluna_lancamento].isin(values_to_ignore)]"
   ]
  },
  {
   "cell_type": "code",
   "execution_count": null,
   "metadata": {},
   "outputs": [],
   "source": [
    "def get_file_name_to_save(df: DataFrame, coluna: str, indice: int, type: str) -> str:\n",
    "    value = df[coluna][indice]\n",
    "    return f'{value[-4:]}-{value[0:2]}.{type}'"
   ]
  },
  {
   "cell_type": "code",
   "execution_count": null,
   "metadata": {},
   "outputs": [],
   "source": [
    "def save_dataframe_to_csv(df: DataFrame, coluna: str, indice: str, file_type: str, show_index = False):\n",
    "    filename = get_file_name_to_save(df, coluna, int(indice), file_type)\n",
    "    df.to_csv(f'{filename}', index=show_index)"
   ]
  },
  {
   "cell_type": "code",
   "execution_count": null,
   "metadata": {},
   "outputs": [],
   "source": [
    "for file in os.listdir(BASE_PATH):\n",
    "    if file.endswith(FILE_TYPE_TO_IMPORT):\n",
    "        df = pd.read_csv(Path(file), sep=IMPORTED_FILE_SEPARATOR, engine=ENGINE_NAME, names=[COLUNA_DATA, COLUNA_LANCAMENTO, COLUNA_SALDO], decimal=DECIMAL_INDICATOR)\n",
    "\n",
    "        if df.empty:\n",
    "            continue\n",
    "        else:\n",
    "            df = convert_dataframe_to_notion_format(df, NOME_INSTITUICAO, COLUNA_DATA, COLUNA_SALDO, COLUNA_INSTITUICAO)\n",
    "            filtered_df = filter_dataframe(df, COLUNA_LANCAMENTO, VALUES_TO_IGNORE)\n",
    "            save_dataframe_to_csv(filtered_df, COLUNA_DATA, INDICE_NAME, FILE_TYPE_TO_EXPORT)"
   ]
  }
 ],
 "metadata": {
  "kernelspec": {
   "display_name": "base",
   "language": "python",
   "name": "python3"
  },
  "language_info": {
   "codemirror_mode": {
    "name": "ipython",
    "version": 3
   },
   "file_extension": ".py",
   "mimetype": "text/x-python",
   "name": "python",
   "nbconvert_exporter": "python",
   "pygments_lexer": "ipython3",
   "version": "3.11.7"
  }
 },
 "nbformat": 4,
 "nbformat_minor": 2
}
